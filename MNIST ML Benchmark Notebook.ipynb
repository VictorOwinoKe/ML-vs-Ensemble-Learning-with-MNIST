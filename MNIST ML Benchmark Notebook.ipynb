{
  "cells": [
    {
      "cell_type": "markdown",
      "source": [
        "#Load & Prepaire Data"
      ],
      "metadata": {
        "id": "vQiRVzplULFd"
      },
      "id": "vQiRVzplULFd"
    },
    {
      "cell_type": "code",
      "source": [
        "# Import libraries\n",
        "import pandas as pd\n",
        "import numpy as np\n",
        "from sklearn.datasets import fetch_openml\n",
        "from sklearn.model_selection import train_test_split\n",
        "from sklearn.preprocessing import StandardScaler"
      ],
      "metadata": {
        "id": "8CF71xbKQhv5"
      },
      "id": "8CF71xbKQhv5",
      "execution_count": null,
      "outputs": []
    },
    {
      "cell_type": "code",
      "source": [
        "# Load the MNIST dataset\n",
        "mnist = fetch_openml('mnist_784', version=1)\n",
        "X, y = mnist[\"data\"], mnist[\"target\"]\n",
        "\n",
        "# Convert target to integers\n",
        "y = y.astype(int)\n",
        "\n",
        "# Split into training and test sets\n",
        "X_train, X_test, y_train, y_test = train_test_split(X, y, test_size=0.2, random_state=42)\n",
        "\n",
        "# Standardize the data\n",
        "scaler = StandardScaler()\n",
        "X_train = scaler.fit_transform(X_train)\n",
        "X_test = scaler.transform(X_test)\n",
        "\n",
        "print(f\"Training set shape: {X_train.shape}\")\n",
        "print(f\"Test set shape: {X_test.shape}\")\n"
      ],
      "metadata": {
        "colab": {
          "base_uri": "https://localhost:8080/"
        },
        "id": "Dfsrj3MKUQHS",
        "outputId": "684835f1-b763-4bdc-d80d-ee4f76e1c1dc"
      },
      "id": "Dfsrj3MKUQHS",
      "execution_count": null,
      "outputs": [
        {
          "output_type": "stream",
          "name": "stdout",
          "text": [
            "Training set shape: (56000, 784)\n",
            "Test set shape: (14000, 784)\n"
          ]
        }
      ]
    },
    {
      "cell_type": "markdown",
      "source": [
        "# 1.Decision Tree Classifier"
      ],
      "metadata": {
        "id": "fHU02cx_FLme"
      },
      "id": "fHU02cx_FLme"
    },
    {
      "cell_type": "code",
      "source": [
        "from sklearn.tree import DecisionTreeClassifier\n",
        "from sklearn.metrics import classification_report\n",
        "from tabulate import tabulate"
      ],
      "metadata": {
        "id": "RCBsOzcSFn5s"
      },
      "id": "RCBsOzcSFn5s",
      "execution_count": null,
      "outputs": []
    },
    {
      "cell_type": "code",
      "source": [
        "# Implement Decision Tree classifier\n",
        "clf = DecisionTreeClassifier(random_state=42)\n",
        "clf.fit(X_train, y_train)\n",
        "y_pred = clf.predict(X_test)"
      ],
      "metadata": {
        "id": "d0jyfWQpaDjn"
      },
      "id": "d0jyfWQpaDjn",
      "execution_count": null,
      "outputs": []
    },
    {
      "cell_type": "code",
      "source": [
        "def evaluate_performance(y_true, y_pred):\n",
        "    '''classification report'''\n",
        "    dtree_report = classification_report(y_true, y_pred)\n",
        "    print(\"Decision Tree Classifier Performance Report:\")\n",
        "    print(dtree_report)\n",
        "evaluate_performance(y_test, y_pred)"
      ],
      "metadata": {
        "colab": {
          "base_uri": "https://localhost:8080/"
        },
        "id": "8B2JA51gcY1p",
        "outputId": "976c5655-7734-450f-92dd-e0101b904702"
      },
      "id": "8B2JA51gcY1p",
      "execution_count": null,
      "outputs": [
        {
          "output_type": "stream",
          "name": "stdout",
          "text": [
            "Decision Tree Classifier Performance Report:\n",
            "              precision    recall  f1-score   support\n",
            "\n",
            "           0       0.92      0.92      0.92      1343\n",
            "           1       0.94      0.95      0.95      1600\n",
            "           2       0.87      0.83      0.85      1380\n",
            "           3       0.83      0.84      0.84      1433\n",
            "           4       0.84      0.87      0.85      1295\n",
            "           5       0.83      0.82      0.82      1273\n",
            "           6       0.90      0.90      0.90      1396\n",
            "           7       0.91      0.91      0.91      1503\n",
            "           8       0.80      0.80      0.80      1357\n",
            "           9       0.84      0.84      0.84      1420\n",
            "\n",
            "    accuracy                           0.87     14000\n",
            "   macro avg       0.87      0.87      0.87     14000\n",
            "weighted avg       0.87      0.87      0.87     14000\n",
            "\n"
          ]
        }
      ]
    },
    {
      "cell_type": "markdown",
      "source": [
        "#2.Naive Bayes Classifier"
      ],
      "metadata": {
        "id": "Kb18Z5tubig-"
      },
      "id": "Kb18Z5tubig-"
    },
    {
      "cell_type": "code",
      "source": [
        "from sklearn.naive_bayes import GaussianNB, MultinomialNB\n",
        "from sklearn.preprocessing import StandardScaler, MinMaxScaler"
      ],
      "metadata": {
        "id": "FkRmoEFVbnjT"
      },
      "id": "FkRmoEFVbnjT",
      "execution_count": null,
      "outputs": []
    },
    {
      "cell_type": "markdown",
      "source": [
        "##2.1Gaussian Naive Bayes"
      ],
      "metadata": {
        "id": "wCzNJBKZgR2B"
      },
      "id": "wCzNJBKZgR2B"
    },
    {
      "cell_type": "code",
      "source": [
        "# Standardize for GaussianNB\n",
        "scaler = StandardScaler()\n",
        "X_train_gauss = scaler.fit_transform(X_train)\n",
        "X_test_gauss = scaler.transform(X_test)\n"
      ],
      "metadata": {
        "id": "WLuD2U0Kbnml"
      },
      "id": "WLuD2U0Kbnml",
      "execution_count": null,
      "outputs": []
    },
    {
      "cell_type": "code",
      "source": [
        "# Implement Gaussian Naive Bayes\n",
        "gnb = GaussianNB()\n",
        "gnb.fit(X_train_gauss, y_train)\n",
        "y_pred_gnb = gnb.predict(X_test_gauss)"
      ],
      "metadata": {
        "id": "FZC8xb9eeHlF"
      },
      "id": "FZC8xb9eeHlF",
      "execution_count": null,
      "outputs": []
    },
    {
      "cell_type": "code",
      "source": [
        "# Evaluate performance using classification reports\n",
        "print(\"Gaussian Naive Bayes Performance Report:\")\n",
        "print(classification_report(y_test, y_pred_gnb))"
      ],
      "metadata": {
        "colab": {
          "base_uri": "https://localhost:8080/"
        },
        "id": "JO8Dfw5oehnE",
        "outputId": "93066c6a-26a7-437d-e05c-e810f6f5736a"
      },
      "id": "JO8Dfw5oehnE",
      "execution_count": null,
      "outputs": [
        {
          "output_type": "stream",
          "name": "stdout",
          "text": [
            "Gaussian Naive Bayes Performance Report:\n",
            "              precision    recall  f1-score   support\n",
            "\n",
            "           0       0.63      0.92      0.75      1343\n",
            "           1       0.85      0.94      0.89      1600\n",
            "           2       0.85      0.21      0.33      1380\n",
            "           3       0.69      0.26      0.38      1433\n",
            "           4       0.78      0.08      0.14      1295\n",
            "           5       0.46      0.02      0.04      1273\n",
            "           6       0.69      0.93      0.79      1396\n",
            "           7       0.92      0.22      0.35      1503\n",
            "           8       0.26      0.62      0.37      1357\n",
            "           9       0.36      0.95      0.52      1420\n",
            "\n",
            "    accuracy                           0.53     14000\n",
            "   macro avg       0.65      0.51      0.46     14000\n",
            "weighted avg       0.65      0.53      0.47     14000\n",
            "\n"
          ]
        }
      ]
    },
    {
      "cell_type": "markdown",
      "source": [
        "## 2.2 Multinomial Naive Bayes"
      ],
      "metadata": {
        "id": "OQP8Dz7rgiz7"
      },
      "id": "OQP8Dz7rgiz7"
    },
    {
      "cell_type": "code",
      "source": [
        "# Normalize for MultinomialNB (values should be non-negative)\n",
        "minmax_scaler = MinMaxScaler()\n",
        "X_train_multi = minmax_scaler.fit_transform(X_train)\n",
        "X_test_multi = minmax_scaler.transform(X_test)"
      ],
      "metadata": {
        "id": "ZDa-NcM5gjTF"
      },
      "id": "ZDa-NcM5gjTF",
      "execution_count": null,
      "outputs": []
    },
    {
      "cell_type": "code",
      "source": [
        "# Implement Multinomial Naive Bayes\n",
        "mnb = MultinomialNB()\n",
        "mnb.fit(X_train_multi, y_train)\n",
        "y_pred_mnb = mnb.predict(X_test_multi)"
      ],
      "metadata": {
        "id": "2v7ur92aeWWJ"
      },
      "id": "2v7ur92aeWWJ",
      "execution_count": null,
      "outputs": []
    },
    {
      "cell_type": "code",
      "source": [
        "print(\"Multinomial Naive Bayes Performance Report:\")\n",
        "print(classification_report(y_test, y_pred_mnb))"
      ],
      "metadata": {
        "colab": {
          "base_uri": "https://localhost:8080/"
        },
        "id": "rcGWqZ18eeEk",
        "outputId": "fd1d1583-49fc-4000-9207-63b30d202178"
      },
      "id": "rcGWqZ18eeEk",
      "execution_count": null,
      "outputs": [
        {
          "output_type": "stream",
          "name": "stdout",
          "text": [
            "Multinomial Naive Bayes Performance Report:\n",
            "              precision    recall  f1-score   support\n",
            "\n",
            "           0       0.93      0.90      0.92      1343\n",
            "           1       0.87      0.94      0.90      1600\n",
            "           2       0.88      0.82      0.85      1380\n",
            "           3       0.80      0.82      0.81      1433\n",
            "           4       0.83      0.74      0.78      1295\n",
            "           5       0.86      0.67      0.75      1273\n",
            "           6       0.88      0.91      0.89      1396\n",
            "           7       0.94      0.83      0.88      1503\n",
            "           8       0.67      0.78      0.72      1357\n",
            "           9       0.70      0.84      0.76      1420\n",
            "\n",
            "    accuracy                           0.83     14000\n",
            "   macro avg       0.83      0.82      0.83     14000\n",
            "weighted avg       0.84      0.83      0.83     14000\n",
            "\n"
          ]
        }
      ]
    },
    {
      "cell_type": "markdown",
      "source": [
        "#3.Support Vector Machine (SVM)"
      ],
      "metadata": {
        "id": "hC-qPu4Wevfe"
      },
      "id": "hC-qPu4Wevfe"
    },
    {
      "cell_type": "code",
      "source": [
        "from sklearn.svm import SVC\n",
        "import time"
      ],
      "metadata": {
        "id": "Ose1ff7_eu5y"
      },
      "id": "Ose1ff7_eu5y",
      "execution_count": null,
      "outputs": []
    },
    {
      "cell_type": "markdown",
      "source": [
        "## 3.1 Linear Kernel SVM"
      ],
      "metadata": {
        "id": "xNDLOWzxf7d7"
      },
      "id": "xNDLOWzxf7d7"
    },
    {
      "cell_type": "code",
      "source": [
        "# Implement Linear Kernel SVM\n",
        "print(\"Training SVM with Linear Kernel...\")\n",
        "start_time = time.time()\n",
        "svm_linear = SVC(kernel='linear', random_state=42)\n",
        "svm_linear.fit(X_train, y_train)\n",
        "y_pred_linear = svm_linear.predict(X_test)\n",
        "end_time = time.time()"
      ],
      "metadata": {
        "colab": {
          "base_uri": "https://localhost:8080/"
        },
        "id": "scphTIG5fUBs",
        "outputId": "08b0adba-e291-44a3-fa10-b714acf79f06"
      },
      "id": "scphTIG5fUBs",
      "execution_count": null,
      "outputs": [
        {
          "output_type": "stream",
          "name": "stdout",
          "text": [
            "Training SVM with Linear Kernel...\n"
          ]
        }
      ]
    },
    {
      "cell_type": "code",
      "source": [
        "print(\"Linear Kernel SVM Performance Report:\")\n",
        "print(classification_report(y_test, y_pred_linear))\n",
        "print(f\"Time taken: {end_time - start_time:.2f} seconds\\n\")"
      ],
      "metadata": {
        "colab": {
          "base_uri": "https://localhost:8080/"
        },
        "id": "P4su_ORbfg5G",
        "outputId": "b2b30123-641c-4142-f6d0-b258b621ce25"
      },
      "id": "P4su_ORbfg5G",
      "execution_count": null,
      "outputs": [
        {
          "output_type": "stream",
          "name": "stdout",
          "text": [
            "Linear Kernel SVM Performance Report:\n",
            "              precision    recall  f1-score   support\n",
            "\n",
            "           0       0.95      0.97      0.96      1343\n",
            "           1       0.95      0.98      0.97      1600\n",
            "           2       0.89      0.92      0.90      1380\n",
            "           3       0.88      0.91      0.90      1433\n",
            "           4       0.90      0.94      0.92      1295\n",
            "           5       0.87      0.88      0.88      1273\n",
            "           6       0.96      0.93      0.94      1396\n",
            "           7       0.95      0.93      0.94      1503\n",
            "           8       0.92      0.85      0.88      1357\n",
            "           9       0.92      0.89      0.91      1420\n",
            "\n",
            "    accuracy                           0.92     14000\n",
            "   macro avg       0.92      0.92      0.92     14000\n",
            "weighted avg       0.92      0.92      0.92     14000\n",
            "\n",
            "Time taken: 456.69 seconds\n",
            "\n"
          ]
        }
      ]
    },
    {
      "cell_type": "markdown",
      "source": [
        "## 3.2 SVM with RBF Kernel"
      ],
      "metadata": {
        "id": "wuGANJrNfueH"
      },
      "id": "wuGANJrNfueH"
    },
    {
      "cell_type": "code",
      "source": [
        "# Implement RBF Kernel SVM\n",
        "print(\"Training SVM with RBF Kernel...\")\n",
        "start_time = time.time()\n",
        "svm_rbf = SVC(kernel='rbf', random_state=42)\n",
        "svm_rbf.fit(X_train, y_train)\n",
        "y_pred_rbf = svm_rbf.predict(X_test)\n",
        "end_time = time.time()"
      ],
      "metadata": {
        "colab": {
          "base_uri": "https://localhost:8080/"
        },
        "id": "-J5HbPcdfmhr",
        "outputId": "80e89d85-f1a9-4e8d-e68e-8efe3a596c69"
      },
      "id": "-J5HbPcdfmhr",
      "execution_count": null,
      "outputs": [
        {
          "output_type": "stream",
          "name": "stdout",
          "text": [
            "Training SVM with RBF Kernel...\n"
          ]
        }
      ]
    },
    {
      "cell_type": "code",
      "source": [
        "print(\"RBF Kernel SVM Performance Report:\")\n",
        "print(classification_report(y_test, y_pred_rbf))\n",
        "print(f\"Time taken: {end_time - start_time:.2f} seconds\\n\")"
      ],
      "metadata": {
        "colab": {
          "base_uri": "https://localhost:8080/"
        },
        "id": "RuMGzr0hf2-C",
        "outputId": "173d3b83-d495-4951-ad96-d94d3240baaf"
      },
      "id": "RuMGzr0hf2-C",
      "execution_count": null,
      "outputs": [
        {
          "output_type": "stream",
          "name": "stdout",
          "text": [
            "RBF Kernel SVM Performance Report:\n",
            "              precision    recall  f1-score   support\n",
            "\n",
            "           0       0.99      0.98      0.98      1343\n",
            "           1       0.98      0.99      0.98      1600\n",
            "           2       0.95      0.96      0.95      1380\n",
            "           3       0.96      0.95      0.96      1433\n",
            "           4       0.96      0.96      0.96      1295\n",
            "           5       0.97      0.96      0.96      1273\n",
            "           6       0.97      0.98      0.97      1396\n",
            "           7       0.92      0.97      0.95      1503\n",
            "           8       0.97      0.95      0.96      1357\n",
            "           9       0.96      0.93      0.95      1420\n",
            "\n",
            "    accuracy                           0.96     14000\n",
            "   macro avg       0.96      0.96      0.96     14000\n",
            "weighted avg       0.96      0.96      0.96     14000\n",
            "\n",
            "Time taken: 545.42 seconds\n",
            "\n"
          ]
        }
      ]
    },
    {
      "cell_type": "markdown",
      "source": [
        "#4.k-Nearest Neighbors (k-NN)"
      ],
      "metadata": {
        "id": "GuvP1LpuhC6E"
      },
      "id": "GuvP1LpuhC6E"
    },
    {
      "cell_type": "code",
      "source": [
        "from sklearn.neighbors import KNeighborsClassifier\n",
        "from sklearn.metrics import accuracy_score"
      ],
      "metadata": {
        "id": "r0Ror22mhHCa"
      },
      "id": "r0Ror22mhHCa",
      "execution_count": null,
      "outputs": []
    },
    {
      "cell_type": "code",
      "source": [
        "# Experiment with different k values\n",
        "k_values = [3, 5, 7, 9, 11]\n",
        "best_k = None\n",
        "best_accuracy = 0\n",
        "results = []"
      ],
      "metadata": {
        "id": "BM8rh_P3hlqJ"
      },
      "id": "BM8rh_P3hlqJ",
      "execution_count": null,
      "outputs": []
    },
    {
      "cell_type": "code",
      "source": [
        "print(\"Evaluating k-NN Classifier with different k values...\\n\")\n",
        "for k in k_values:\n",
        "    start_time = time.time()\n",
        "    knn = KNeighborsClassifier(n_neighbors=k)\n",
        "    knn.fit(X_train, y_train)\n",
        "    y_pred = knn.predict(X_test)\n",
        "    end_time = time.time()\n",
        "\n",
        "    accuracy = accuracy_score(y_test, y_pred)\n",
        "    results.append((k, accuracy))\n",
        "\n",
        "    print(f\"k = {k}: Accuracy = {accuracy:.4f} | Time taken = {end_time - start_time:.2f} seconds\")\n",
        "    # Track the best k value\n",
        "    if accuracy > best_accuracy:\n",
        "        best_accuracy = accuracy\n",
        "        best_k = k\n",
        "\n",
        "print(\"\\nOptimal k value:\", best_k)\n",
        "print(\"Best Accuracy:\", best_accuracy)"
      ],
      "metadata": {
        "colab": {
          "base_uri": "https://localhost:8080/"
        },
        "id": "oJYiWVJNh6R8",
        "outputId": "2df175ff-ddc6-456c-8150-c11511740ce3"
      },
      "id": "oJYiWVJNh6R8",
      "execution_count": null,
      "outputs": [
        {
          "output_type": "stream",
          "name": "stdout",
          "text": [
            "Evaluating k-NN Classifier with different k values...\n",
            "\n",
            "k = 3: Accuracy = 0.9465 | Time taken = 48.02 seconds\n",
            "k = 5: Accuracy = 0.9458 | Time taken = 63.59 seconds\n",
            "k = 7: Accuracy = 0.9439 | Time taken = 65.56 seconds\n",
            "k = 9: Accuracy = 0.9432 | Time taken = 43.91 seconds\n",
            "k = 11: Accuracy = 0.9401 | Time taken = 56.70 seconds\n",
            "\n",
            "Optimal k value: 3\n",
            "Best Accuracy: 0.9465\n"
          ]
        }
      ]
    },
    {
      "cell_type": "code",
      "source": [
        "import matplotlib.pyplot as plt\n",
        "def plot_knn_results(k_values, accuracies):\n",
        "    # accuracy vs. k\n",
        "    plt.figure(figsize=(10, 6))\n",
        "    plt.plot(k_values, accuracies, marker='o', linestyle='-', color='blue', label='Accuracy')\n",
        "    plt.title('k-NN Accuracy vs. k Value')\n",
        "    plt.xlabel('k Value')\n",
        "    plt.ylabel('Accuracy')\n",
        "    plt.xticks(k_values)\n",
        "    plt.grid(True)\n",
        "    plt.legend()\n",
        "    plt.show()\n",
        "\n",
        "# results from the k-NN experiment\n",
        "k_values = [3, 5, 7, 9, 11]\n",
        "accuracies = [0.9465, 0.9458, 0.9439, 0.9432, 0.9401]\n",
        "\n",
        "plot_knn_results(k_values, accuracies)\n"
      ],
      "metadata": {
        "colab": {
          "base_uri": "https://localhost:8080/",
          "height": 564
        },
        "id": "B3JJI8dLiNfx",
        "outputId": "71ffc337-fd7e-4875-f2db-32b602f78acc"
      },
      "id": "B3JJI8dLiNfx",
      "execution_count": null,
      "outputs": [
        {
          "output_type": "display_data",
          "data": {
            "text/plain": [
              "<Figure size 1000x600 with 1 Axes>"
            ],
            "image/png": "[encoded data removed]"
          },
          "metadata": {}
        }
      ]
    },
    {
      "cell_type": "markdown",
      "source": [
        "#5.Ensemble Methods"
      ],
      "metadata": {
        "id": "x2OHcDnBi_17"
      },
      "id": "x2OHcDnBi_17"
    },
    {
      "cell_type": "code",
      "source": [
        "from sklearn.ensemble import BaggingClassifier, RandomForestClassifier, AdaBoostClassifier\n",
        "from sklearn.tree import DecisionTreeClassifier\n",
        "import xgboost as xgb\n",
        "from sklearn.metrics import accuracy_score\n",
        "from sklearn.model_selection import cross_val_score"
      ],
      "metadata": {
        "id": "uO64fskdjEV8"
      },
      "id": "uO64fskdjEV8",
      "execution_count": null,
      "outputs": []
    },
    {
      "cell_type": "markdown",
      "source": [
        "## 5.1Bagging with Decision Trees"
      ],
      "metadata": {
        "id": "XGYiq5qnj1Jz"
      },
      "id": "XGYiq5qnj1Jz"
    },
    {
      "cell_type": "code",
      "source": [
        "# Bagging using Decision Trees\n",
        "bagging_model = BaggingClassifier(estimator=DecisionTreeClassifier(),\n",
        "                                  n_estimators=50, random_state=42)\n",
        "bagging_model.fit(X_train, y_train)\n",
        "y_pred_bagging = bagging_model.predict(X_test)\n",
        "accuracy_bagging = accuracy_score(y_test, y_pred_bagging)\n",
        "print(f\"Bagging accuracy: {accuracy_bagging:.4f}\")\n"
      ],
      "metadata": {
        "colab": {
          "base_uri": "https://localhost:8080/"
        },
        "id": "m8hvHv7jjEkt",
        "outputId": "b52858e1-5646-4aee-debd-f7b42b409319"
      },
      "id": "m8hvHv7jjEkt",
      "execution_count": null,
      "outputs": [
        {
          "output_type": "stream",
          "name": "stdout",
          "text": [
            "Bagging accuracy: 0.9557\n"
          ]
        }
      ]
    },
    {
      "cell_type": "markdown",
      "source": [
        "##5.2 Random Forest"
      ],
      "metadata": {
        "id": "WbAyR_bokBop"
      },
      "id": "WbAyR_bokBop"
    },
    {
      "cell_type": "code",
      "source": [
        "# Random Forest\n",
        "rf_model = RandomForestClassifier(n_estimators=50, random_state=42)\n",
        "rf_model.fit(X_train, y_train)\n",
        "y_pred_rf = rf_model.predict(X_test)\n",
        "accuracy_rf = accuracy_score(y_test, y_pred_rf)\n",
        "print(f\"Random Forest accuracy: {accuracy_rf:.4f}\")"
      ],
      "metadata": {
        "colab": {
          "base_uri": "https://localhost:8080/"
        },
        "id": "TlAiv6MLj6ci",
        "outputId": "9f48fe50-05b6-4172-c3b7-94845d42cd73"
      },
      "id": "TlAiv6MLj6ci",
      "execution_count": null,
      "outputs": [
        {
          "output_type": "stream",
          "name": "stdout",
          "text": [
            "Random Forest accuracy: 0.9641\n"
          ]
        }
      ]
    },
    {
      "cell_type": "markdown",
      "source": [
        "##5.3 AdaBoost with Decision Trees"
      ],
      "metadata": {
        "id": "2SREBw6DklWN"
      },
      "id": "2SREBw6DklWN"
    },
    {
      "cell_type": "code",
      "source": [
        "# AdaBoost using Decision Trees\n",
        "ada_model = AdaBoostClassifier(estimator=DecisionTreeClassifier(max_depth=1),\n",
        "                               n_estimators=50, random_state=42)\n",
        "ada_model.fit(X_train, y_train)\n",
        "y_pred_ada = ada_model.predict(X_test)\n",
        "accuracy_ada = accuracy_score(y_test, y_pred_ada)\n",
        "print(f\"AdaBoost accuracy: {accuracy_ada:.4f}\")"
      ],
      "metadata": {
        "colab": {
          "base_uri": "https://localhost:8080/"
        },
        "id": "a3L9c52IkMGm",
        "outputId": "65b3e013-97b2-4c57-bc68-89d13d7c4089"
      },
      "id": "a3L9c52IkMGm",
      "execution_count": null,
      "outputs": [
        {
          "output_type": "stream",
          "name": "stdout",
          "text": [
            "AdaBoost accuracy: 0.6426\n"
          ]
        }
      ]
    },
    {
      "cell_type": "markdown",
      "source": [
        "##5.4 XGBoost"
      ],
      "metadata": {
        "id": "xqJOfUK0krrw"
      },
      "id": "xqJOfUK0krrw"
    },
    {
      "cell_type": "code",
      "source": [
        "xgb_model = xgb.XGBClassifier(n_estimators=50, random_state=42)\n",
        "xgb_model.fit(X_train, y_train)\n",
        "y_pred_xgb = xgb_model.predict(X_test)\n",
        "accuracy_xgb = accuracy_score(y_test, y_pred_xgb)\n",
        "print(f\"XGBoost accuracy: {accuracy_xgb:.4f}\")"
      ],
      "metadata": {
        "colab": {
          "base_uri": "https://localhost:8080/"
        },
        "id": "S_SBcZgYky-7",
        "outputId": "0dbe0c75-ace6-44d6-b9d3-9f74ce93d874"
      },
      "id": "S_SBcZgYky-7",
      "execution_count": null,
      "outputs": [
        {
          "output_type": "stream",
          "name": "stdout",
          "text": [
            "XGBoost accuracy: 0.9739\n"
          ]
        }
      ]
    },
    {
      "cell_type": "code",
      "source": [],
      "metadata": {
        "id": "HsFv-Uzv5yAQ"
      },
      "id": "HsFv-Uzv5yAQ",
      "execution_count": null,
      "outputs": []
    },
    {
      "cell_type": "code",
      "source": [],
      "metadata": {
        "id": "gc-7MSch5yDa"
      },
      "id": "gc-7MSch5yDa",
      "execution_count": null,
      "outputs": []
    }
  ],
  "metadata": {
    "kernelspec": {
      "display_name": "Python 3 (ipykernel)",
      "language": "python",
      "name": "python3"
    },
    "language_info": {
      "codemirror_mode": {
        "name": "ipython",
        "version": 3
      },
      "file_extension": ".py",
      "mimetype": "text/x-python",
      "name": "python",
      "nbconvert_exporter": "python",
      "pygments_lexer": "ipython3",
      "version": "3.9.6"
    },
    "colab": {
      "provenance": [],
      "toc_visible": true
    }
  },
  "nbformat": 4,
  "nbformat_minor": 5
}